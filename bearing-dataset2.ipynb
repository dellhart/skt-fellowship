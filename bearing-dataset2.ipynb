{
 "cells": [
  {
   "cell_type": "code",
   "execution_count": 1,
   "metadata": {},
   "outputs": [],
   "source": [
    "import os\n",
    "import glob\n",
    "import datetime\n",
    "\n",
    "import numpy as np\n",
    "import scipy\n",
    "import pandas as pd\n",
    "\n",
    "import matplotlib\n",
    "import matplotlib.pyplot as plt\n",
    "\n",
    "import obspy\n",
    "from obspy.signal import PPSD\n",
    "\n",
    "\n",
    "RAW_DATA_HOME = './rawdata'\n",
    "RAW_BEARING_DATA_HOME = os.path.join(RAW_DATA_HOME, 'bearing')\n",
    "RAW_TARGET_DATA_HOME = '2nd_test/2nd_test'\n",
    "RAW_TARGET_DATA_PATTERN = '*'\n",
    "\n",
    "RAW_DATA_FIND_PATTERN = os.path.join(RAW_BEARING_DATA_HOME,\n",
    "                                os.path.join(RAW_TARGET_DATA_HOME, RAW_TARGET_DATA_PATTERN))"
   ]
  },
  {
   "cell_type": "markdown",
   "metadata": {},
   "source": [
    "## Preparing data for 1st_test data\n",
    "Each data set consists of individual files that are 1-second vibration signal snapshots recorded at specific intervals. For dataset 1, First 43 snapshots excluded from inspection."
   ]
  },
  {
   "cell_type": "code",
   "execution_count": 2,
   "metadata": {},
   "outputs": [],
   "source": [
    "# Grap files using pattern\n",
    "streams = [obspy.core.stream.Stream() for _ in range(4)]\n",
    "\n",
    "conv_targets = glob.glob(RAW_DATA_FIND_PATTERN)\n",
    "conv_targets = sorted(conv_targets)\n",
    "# Excluding first 43 samples.\n",
    "for target in conv_targets:\n",
    "    fname = os.path.basename(target)\n",
    "    # get recording time from file name\n",
    "    tokens = list(map(int, fname.strip().split('.')))\n",
    "    time = datetime.datetime(*tokens)\n",
    "    df = pd.read_csv(target, sep='\\t')\n",
    "    df.columns = ['b1', 'b2', 'b3', 'b4']\n",
    "    for i, (name, values) in enumerate(df.iteritems()):\n",
    "        # print(i, name, values.describe())\n",
    "        stats = {\n",
    "            'sampling_rate': 20480,\n",
    "            'station': name.split('_')[0],\n",
    "            'channel': 'acc',\n",
    "            'starttime': time\n",
    "        }\n",
    "        v = values.values\n",
    "        v -= np.mean(v)\n",
    "        trace = obspy.core.trace.Trace(header=stats, data=v)\n",
    "        # trace.plot()\n",
    "        # print(i, stats)\n",
    "        streams[i].append(trace)"
   ]
  },
  {
   "cell_type": "markdown",
   "metadata": {},
   "source": [
    "## Inspect signal using PDF\n",
    "Sampling rate of each dataset is 20,480. To "
   ]
  },
  {
   "cell_type": "code",
   "execution_count": 3,
   "metadata": {},
   "outputs": [],
   "source": [
    "ppsds = []\n",
    "paz = {\n",
    "    'gain': 1,\n",
    "    'sensitivity': 1,\n",
    "    'poles': [],\n",
    "    'zeros': [],\n",
    "}\n",
    "\n",
    "for s in streams:\n",
    "    s[0].stats.sampling_rate = 20479\n",
    "    ppsd = PPSD(s[0].stats, paz, skip_on_gaps=True, ppsd_length=1, db_bins=(-75, -40, .1), special_handling='ringlaser')\n",
    "    for t in s:\n",
    "        t.stats.sampling_rate = 20479\n",
    "        if not ppsd.add(t):\n",
    "            print('TT')\n",
    "    ppsds.append(ppsd)"
   ]
  },
  {
   "cell_type": "code",
   "execution_count": 6,
   "metadata": {},
   "outputs": [
    {
     "name": "stderr",
     "output_type": "stream",
     "text": [
      "/Users/jslee/anaconda/anaconda3/lib/python3.8/site-packages/obspy/signal/spectral_estimation.py:2028: UserWarning: Attempted to set non-positive right xlim on a log-scaled axis.\n",
      "Invalid limit will be ignored.\n",
      "  ax.invert_xaxis()\n",
      "/Users/jslee/anaconda/anaconda3/lib/python3.8/site-packages/obspy/signal/spectral_estimation.py:2028: UserWarning: Attempting to set identical left == right == 1.0 results in singular transformations; automatically expanding.\n",
      "  ax.invert_xaxis()\n"
     ]
    }
   ],
   "source": [
    "for ppsd in ppsds:\n",
    "    ppsd.plot(cmap=obspy.imaging.cm.pqlx, xaxis_frequency=True, show_coverage=False, show_noise_models=False, period_lim=(5, 10240)\n",
    "              , filename=f'outs/dataset2/{ppsd.station}{ppsd.channel}')"
   ]
  },
  {
   "cell_type": "code",
   "execution_count": 8,
   "metadata": {},
   "outputs": [],
   "source": [
    "st = obspy.core.utcdatetime.UTCDateTime('2004-02-12T11:02:39')\n",
    "mt = obspy.core.utcdatetime.UTCDateTime('2004-02-13T23:52:39') # Take snapshots 10 days long from start\n",
    "et = obspy.core.utcdatetime.UTCDateTime('2004-12-19')"
   ]
  },
  {
   "cell_type": "markdown",
   "metadata": {},
   "source": [
    "## Apply PCA to reduce feature dimention"
   ]
  },
  {
   "cell_type": "code",
   "execution_count": 11,
   "metadata": {},
   "outputs": [
    {
     "name": "stdout",
     "output_type": "stream",
     "text": [
      "(224, 89) (760, 89)\n",
      "(224, 89) (760, 89)\n",
      "(224, 89) (760, 89)\n",
      "(224, 89) (760, 89)\n"
     ]
    }
   ],
   "source": [
    "from sklearn.preprocessing import StandardScaler\n",
    "from sklearn.decomposition import PCA\n",
    "from sklearn.neighbors import LocalOutlierFactor\n",
    "from sklearn.manifold import TSNE\n",
    "from matplotlib.lines import Line2D # For mock element\n",
    "\n",
    "colors = np.array(['r', 'b'])\n",
    "\n",
    "preds = {}\n",
    "\n",
    "for ppsd in ppsds:\n",
    "    idx = 0\n",
    "    for i, tp in enumerate(ppsd.times_processed):\n",
    "        if tp >= mt:\n",
    "            idx = i\n",
    "            break\n",
    "    X_train, X_test = ppsd.psd_values[:i], ppsd.psd_values[i:]\n",
    "    X_train, X_test = np.asarray(X_train), np.asarray(X_test)\n",
    "    print(X_train.shape, X_test.shape)\n",
    "    scaler = StandardScaler().fit(X_train)\n",
    "    X_train_scaled = scaler.transform(X_train)\n",
    "    \n",
    "    pca = PCA(n_components=10)\n",
    "    Y_train = pca.fit_transform(X_train_scaled)\n",
    "    \n",
    "    X_test_scaled = scaler.transform(X_test)\n",
    "    Y_test = pca.transform(X_test_scaled)\n",
    "    \n",
    "    # Training LOF\n",
    "    # Magic number taken from example\n",
    "    clf = LocalOutlierFactor(n_neighbors=20, contamination=0.002, novelty=True)\n",
    "    clf.fit(X_train_scaled)\n",
    "    \n",
    "    y_pred_result = clf.predict(X_test_scaled)\n",
    "    # print(y_pred_result)\n",
    "    preds[f'{ppsd.station}{ppsd.channel}'] = y_pred_result\n",
    "    \n",
    "    \n",
    "    # Training t-sne model to map 10-dim to 2-dim\n",
    "    tsne = TSNE(n_components=2, init='random', random_state=1231)\n",
    "    \n",
    "    X_tsne = np.vstack((Y_train, Y_test))\n",
    "    Y_tsne = tsne.fit_transform(X_tsne)\n",
    "    \n",
    "    \n",
    "    plt.scatter(Y_tsne[:i, 0], Y_tsne[:i, 1], color='k', alpha=0.3, zorder=1)\n",
    "    plt.scatter(Y_tsne[i:, 0], Y_tsne[i:, 1], color=colors[(y_pred_result + 1) // 2], alpha=0.3, zorder=0)\n",
    "    plt.title(f'{ppsd.station}, {ppsd.channel}')\n",
    "    \n",
    "    legend_elements = [\n",
    "        Line2D([], [], color='k', linestyle='None', marker='o', label='Training data'),\n",
    "        Line2D([], [], color='b', linestyle='None', marker='o', label='Test data, inlier'),\n",
    "        Line2D([], [], color='r', linestyle='None', marker='o', label='Test data, outlier')\n",
    "    ]\n",
    "    \n",
    "    plt.legend(handles=legend_elements)\n",
    "     # plt.show()\n",
    "    plt.savefig(f'./outs/dataset2/{ppsd.station}{ppsd.channel}_tsne.png', bbox_inches='tight')\n",
    "    plt.close()\n",
    "    \n",
    "    \n",
    "    "
   ]
  },
  {
   "cell_type": "code",
   "execution_count": 13,
   "metadata": {},
   "outputs": [],
   "source": [
    "for stream in streams:\n",
    "    msee = []\n",
    "    c = []\n",
    "    labels = preds[f'{stream[0].stats.station}{stream[0].stats.channel}']\n",
    "    train_raw = stream.slice(st, mt)\n",
    "    test_raw = stream.slice(mt, et)\n",
    "    for t in train_raw:\n",
    "        mse = np.sqrt(np.mean(t.data ** 2))\n",
    "        msee.append(mse)\n",
    "        c.append('k')\n",
    "    for i, t in enumerate(test_raw):\n",
    "        mse = np.sqrt(np.mean(t.data ** 2))\n",
    "        msee.append(mse)\n",
    "        c.append(colors[(labels[i] + 1) // 2])\n",
    "    \n",
    "    xaxis = np.arange(len(msee))\n",
    "    plt.scatter(xaxis, msee, color=c, s=2)\n",
    "    legend_elements = [\n",
    "        Line2D([], [], color='k', linestyle='None', marker='o', label='Training data'),\n",
    "        Line2D([], [], color='b', linestyle='None', marker='o', label='Test data, inlier'),\n",
    "        Line2D([], [], color='r', linestyle='None', marker='o', label='Test data, outlier')\n",
    "    ]\n",
    "    plt.legend(handles=legend_elements)\n",
    "    plt.title(f'{stream[0].stats.station}, {stream[0].stats.channel}')\n",
    "    plt.ylabel('RMS')\n",
    "    plt.xlabel('Snapshot')\n",
    "    # plt.show()\n",
    "    plt.savefig(f'./outs/dataset2/{stream[0].stats.station}{stream[0].stats.channel}_rms.png', bbox_inches='tight')\n",
    "    plt.close()"
   ]
  }
 ],
 "metadata": {
  "kernelspec": {
   "display_name": "Python 3",
   "language": "python",
   "name": "python3"
  },
  "language_info": {
   "codemirror_mode": {
    "name": "ipython",
    "version": 3
   },
   "file_extension": ".py",
   "mimetype": "text/x-python",
   "name": "python",
   "nbconvert_exporter": "python",
   "pygments_lexer": "ipython3",
   "version": "3.8.3"
  }
 },
 "nbformat": 4,
 "nbformat_minor": 4
}
